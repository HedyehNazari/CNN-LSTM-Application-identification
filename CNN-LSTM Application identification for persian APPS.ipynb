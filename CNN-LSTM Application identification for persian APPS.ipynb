{
 "cells": [
  {
   "cell_type": "code",
   "execution_count": 2,
   "id": "c07fb2ef",
   "metadata": {},
   "outputs": [],
   "source": [
    "# ! pip install scapy\n",
    "# ! pip install seaborn\n",
    "\n",
    "# ! pip install pandas\n",
    "\n",
    "# ! pip install imblearn\n",
    "\n",
    "# ! pip install torch\n",
    "\n",
    "# ! pip install torchvision\n",
    "\n",
    "# ! pip install prettytable\n",
    "\n",
    "# ! pip install matplotlib"
   ]
  },
  {
   "cell_type": "code",
   "execution_count": null,
   "id": "af62a681",
   "metadata": {},
   "outputs": [],
   "source": []
  },
  {
   "cell_type": "code",
   "execution_count": 3,
   "id": "b0afbd64",
   "metadata": {
    "scrolled": false
   },
   "outputs": [
    {
     "name": "stdout",
     "output_type": "stream",
     "text": [
      "cuda\n",
      "NVIDIA GeForce GTX 850M\n",
      "1.10.1\n",
      "11.3\n"
     ]
    }
   ],
   "source": [
    "import torch\n",
    "\n",
    "device = torch.device(\"cuda\" if torch.cuda.is_available() else \"cpu\")\n",
    "\n",
    "print(device)\n",
    "print(torch.cuda.get_device_name())\n",
    "print(torch.__version__)\n",
    "print(torch.version.cuda)"
   ]
  },
  {
   "cell_type": "code",
   "execution_count": 4,
   "id": "a76d0d3d",
   "metadata": {},
   "outputs": [],
   "source": [
    "from pathlib import Path\n",
    "import os\n",
    "import os.path\n",
    "import numpy as np\n",
    "import pandas as pd\n",
    "from joblib import Parallel, delayed\n",
    "from scapy.compat import raw\n",
    "from scapy.layers.inet import IP, UDP\n",
    "from scapy.layers.l2 import Ether\n",
    "from scapy.packet import Padding\n",
    "from scapy.utils import rdpcap, PcapReader\n",
    "from scipy import sparse\n",
    "from sklearn.model_selection import train_test_split\n",
    "from imblearn.under_sampling import RandomUnderSampler\n",
    "\n",
    "from scapy.layers.dns import DNS\n",
    "from scapy.layers.inet import TCP\n",
    "from scapy.packet import Padding\n",
    "from scapy.utils import rdpcap\n",
    "\n",
    "import torch\n",
    "import torchvision\n",
    "import torchvision.transforms as transforms\n",
    "import torch.nn as nn\n",
    "import torch.nn.functional as F\n",
    "from random import sample\n",
    "import matplotlib.pyplot as plt\n",
    "import seaborn as sn\n",
    "import math\n",
    "import random\n",
    "\n",
    "\n",
    "from torch.utils.data import Dataset, DataLoader, random_split\n",
    "from torch.utils.data.sampler import SubsetRandomSampler\n",
    "from torch.nn import functional as F\n",
    "\n",
    "import tensorflow as tf\n",
    "import time\n",
    "from datetime import timedelta\n",
    "from datetime import datetime\n",
    "import pickle\n",
    "import random\n",
    "from prettytable import PrettyTable"
   ]
  },
  {
   "cell_type": "code",
   "execution_count": 5,
   "id": "425c7591",
   "metadata": {},
   "outputs": [],
   "source": [
    "mylist =[]"
   ]
  },
  {
   "cell_type": "code",
   "execution_count": 6,
   "id": "4668c56d",
   "metadata": {},
   "outputs": [],
   "source": [
    "def remove_ether_header(packet):\n",
    "    if Ether in packet:\n",
    "        return packet[Ether].payload\n",
    "\n",
    "    return packet\n",
    "\n",
    "\n",
    "def mask_ip(packet):\n",
    "    if IP in packet:\n",
    "        packet[IP].src = '0.0.0.0'\n",
    "        packet[IP].dst = '0.0.0.0'\n",
    "\n",
    "    return packet\n",
    "\n",
    "\n",
    "def pad_udp(packet):\n",
    "    if UDP in packet:\n",
    "        # get layers after udp\n",
    "        layer_after = packet[UDP].payload.copy()\n",
    "\n",
    "        # build a padding layer\n",
    "        pad = Padding()\n",
    "        pad.load = '\\x00' * 12\n",
    "\n",
    "        layer_before = packet.copy()\n",
    "        layer_before[UDP].remove_payload()\n",
    "        packet = layer_before / pad / layer_after\n",
    "\n",
    "        return packet\n",
    "\n",
    "    return packet\n",
    "\n",
    "\n",
    "def packet_to_sparse_array(packet, max_length=1500):\n",
    "    arr = np.frombuffer(raw(packet), dtype=np.uint8)[0: max_length]     # Divide to 255 later\n",
    "#     mylist.append(len(arr))\n",
    "#     arr =  arr[:500]\n",
    "    if len(arr) < max_length:\n",
    "        pad_width = max_length - len(arr)\n",
    "        arr = np.pad(arr, pad_width=(0, pad_width), constant_values=0)\n",
    "\n",
    "    arr = sparse.csr_matrix(arr)\n",
    "    return arr\n",
    "\n",
    "def should_omit_packet(packet):\n",
    "    # SYN, ACK or FIN flags set to 1 and no payload\n",
    "    if TCP in packet and (packet.flags & 0x13):\n",
    "        # not payload or contains only padding\n",
    "        layers = packet[TCP].payload.layers()\n",
    "        if not layers or (Padding in layers and len(layers) == 1):\n",
    "            return True\n",
    "\n",
    "    # DNS segment\n",
    "    if DNS in packet:\n",
    "        return True\n",
    "\n",
    "    return False\n",
    "\n",
    "\n",
    "def transform_packet(packet):\n",
    "    if should_omit_packet(packet):\n",
    "        return None\n",
    "\n",
    "    packet = remove_ether_header(packet)\n",
    "    packet = pad_udp(packet)\n",
    "    packet = mask_ip(packet)\n",
    "\n",
    "    arr = packet_to_sparse_array(packet)\n",
    "\n",
    "    return arr"
   ]
  },
  {
   "cell_type": "code",
   "execution_count": 7,
   "id": "a63a9335",
   "metadata": {},
   "outputs": [],
   "source": [
    "# for app identification\n",
    "PREFIX_TO_APP_ID = {\n",
    "    # Aparat\n",
    "    'aparat': 0,\n",
    "    # # Filimo\n",
    "    'filimo': 1,\n",
    "    # Digikala\n",
    "    'digikala1': 2,\n",
    "}\n",
    "\n",
    "ID_TO_APP = {\n",
    "    0: 'Aparat',\n",
    "    1: 'Filimo',\n",
    "    2 : 'Digikala',\n",
    "}\n"
   ]
  },
  {
   "cell_type": "code",
   "execution_count": 8,
   "id": "b99b38b5",
   "metadata": {
    "scrolled": true
   },
   "outputs": [
    {
     "name": "stdout",
     "output_type": "stream",
     "text": [
      "Files in 'C:\\\\Users\\\\Hedyeh\\\\Jupyer_Datsaset\\\\pcaps_persian/': ['aparat.pcap', 'digikala1.pcap', 'filimo.pcap']\n"
     ]
    }
   ],
   "source": [
    "pcaps = \"C:\\\\Users\\Hedyeh\\Jupyer_Datsaset\\pcaps_persian/\"\n",
    "if not os.path.exists(os.path.dirname(pcaps)):\n",
    "   os.makedirs(os.path.dirname(pcaps))\n",
    "files = os.listdir(pcaps)  # Get all the files in that directory\n",
    "print(\"Files in %r: %s\" % (pcaps, files))"
   ]
  },
  {
   "cell_type": "code",
   "execution_count": 9,
   "id": "781b907d",
   "metadata": {},
   "outputs": [],
   "source": [
    "cache = \"C:\\\\Users\\Hedyeh\\Jupyer_Datsaset\\DatasetFor3Classes\\dataset.pickle\"\n",
    "if not os.path.exists(os.path.dirname(cache)):\n",
    "   os.makedirs(os.path.dirname(cache))\n",
    "dataset = []"
   ]
  },
  {
   "cell_type": "code",
   "execution_count": 10,
   "id": "0abe955f",
   "metadata": {},
   "outputs": [],
   "source": [
    "# import os\n",
    "\n",
    "# cwd = os.getcwd()  # Get the current working directory (cwd)\n",
    "# files = os.listdir(cwd)  # Get all the files in that directory\n",
    "# print(\"Files in %r: %s\" % (cwd, files))"
   ]
  },
  {
   "cell_type": "code",
   "execution_count": 11,
   "id": "6acf1711",
   "metadata": {
    "scrolled": true
   },
   "outputs": [],
   "source": [
    "if not os.path.isfile(cache):\n",
    "    for path in os.listdir(pcaps):\n",
    "        print('Processing ' + path)\n",
    "        for i, packet in enumerate(rdpcap(pcaps + path)):\n",
    "            arr = transform_packet(packet)\n",
    "            if arr is not None:\n",
    "                \n",
    "                # get labels for app identification\n",
    "                prefix = path.split('.')[0].lower()\n",
    "                app_label = PREFIX_TO_APP_ID.get(prefix)\n",
    "                row = {\n",
    "                    'app_label': app_label,\n",
    "                    'feature': arr.todense().tolist()[0]\n",
    "                }\n",
    "                dataset.append(row)\n",
    "    \n",
    "    with open(cache, 'wb') as f:\n",
    "        pickle.dump(dataset, f)\n",
    "else:\n",
    "    dataset = []\n",
    "   \n",
    "    with (open(cache, \"rb\")) as f:\n",
    "        dataset.extend(pickle.load(f))\n",
    "      "
   ]
  },
  {
   "cell_type": "code",
   "execution_count": 12,
   "id": "02d25b49",
   "metadata": {},
   "outputs": [],
   "source": [
    "# print(max(mylist))"
   ]
  },
  {
   "cell_type": "code",
   "execution_count": 13,
   "id": "802fed3d",
   "metadata": {},
   "outputs": [],
   "source": [
    "# from matplotlib import pyplot as plt\n",
    "\n",
    "\n",
    "# plt.hist(mylist,density=True, bins=30)\n",
    "\n",
    "# plt.show()"
   ]
  },
  {
   "cell_type": "code",
   "execution_count": 14,
   "id": "e0f735b0",
   "metadata": {},
   "outputs": [],
   "source": [
    "app_labels = [row['app_label'] for row in dataset]\n",
    "app_classes = set(app_labels)\n",
    "app_train_all, app_test_all = train_test_split(dataset, test_size=0.2, random_state=42, stratify=app_labels)\n",
    "\n",
    "del dataset"
   ]
  },
  {
   "cell_type": "code",
   "execution_count": 15,
   "id": "2269bf28",
   "metadata": {},
   "outputs": [],
   "source": [
    "# undersample = RandomOverSampler(sampling_strategy='majority')\n",
    "# app_features = [elem['feature'] for elem in app_train_all]\n",
    "# print(len(app_features))\n",
    "# train_app_labels = [elem['app_label'] for elem in app_train_all]\n",
    "# print(len(train_app_labels))\n",
    "# app_train, app_y = undersample.fit_resample(app_features, train_app_labels)\n",
    "# print(len(app_train))\n",
    "# del app_features, train_app_labels, app_train_all"
   ]
  },
  {
   "cell_type": "code",
   "execution_count": 16,
   "id": "99f8699d",
   "metadata": {},
   "outputs": [],
   "source": [
    "app_train_final = [{'feature': torch.from_numpy(np.array([a/255.0 for a in elem['feature']], dtype=np.float32)), 'label': elem['app_label']} for elem in app_train_all]\n",
    "del app_train_all\n",
    "app_test_final = [{'feature': torch.from_numpy(np.array([a/255.0 for a in elem['feature']], dtype=np.float32)), 'label': elem['app_label']} for elem in app_test_all]\n",
    "del app_test_all"
   ]
  },
  {
   "cell_type": "code",
   "execution_count": 17,
   "id": "21d3aec9",
   "metadata": {},
   "outputs": [],
   "source": [
    "# print(type(app_train_final))\n",
    "# print(len(app_train_final))\n",
    "# print(app_train_final[0])\n",
    "# print(len(app_train_final[0]['feature']))"
   ]
  },
  {
   "cell_type": "code",
   "execution_count": 107,
   "id": "f0212976",
   "metadata": {},
   "outputs": [],
   "source": [
    "batch_size = 32\n",
    "num_workers = 0\n",
    "\n",
    "app_train_loader = torch.utils.data.DataLoader(app_train_final, batch_size=batch_size, num_workers=num_workers)\n",
    "app_test_loader = torch.utils.data.DataLoader(app_test_final, batch_size=batch_size, num_workers=num_workers)"
   ]
  },
  {
   "cell_type": "code",
   "execution_count": 108,
   "id": "87dc6122",
   "metadata": {},
   "outputs": [],
   "source": [
    "import tensorflow as tf"
   ]
  },
  {
   "cell_type": "code",
   "execution_count": 125,
   "id": "de918b08",
   "metadata": {},
   "outputs": [],
   "source": [
    "class LSTMModel(nn.Module):\n",
    "    def __init__(self, input_dim, hidden_dim, layer_dim, output_dim):\n",
    "        super(LSTMModel, self).__init__()\n",
    "        # Hidden dimensions\n",
    "        self.hidden_dim = hidden_dim\n",
    "\n",
    "        # Number of hidden layers\n",
    "        self.layer_dim = layer_dim\n",
    "\n",
    "        \n",
    "        self.conv1 = nn.Sequential( \n",
    "                        nn.Conv1d(\n",
    "                            in_channels=1,\n",
    "                            out_channels=150,\n",
    "                            kernel_size=4, \n",
    "                            stride=3, \n",
    "                            padding = 0) \n",
    "                        \n",
    "                        ,nn.ReLU()\n",
    "        )\n",
    "      \n",
    "    \n",
    "\n",
    "        self.maxpool = nn.MaxPool1d(2)\n",
    "\n",
    "      # use a dummy input to calculate\n",
    "        random_input = torch.rand(1, 1, 1500 , requires_grad=False)\n",
    "        random_input = self.conv1(random_input)\n",
    "        random_input = self.maxpool(random_input)\n",
    "        maxpool_out = random_input.view(1, -1).shape[1]\n",
    "\n",
    "        self.fc1 = nn.Sequential(\n",
    "            nn.Linear(\n",
    "                in_features= maxpool_out,\n",
    "                out_features=100\n",
    "            ),\n",
    "            nn.Dropout(p=0.05),\n",
    "            nn.ReLU()\n",
    "        )\n",
    "    \n",
    "        # Building your LSTM\n",
    "        # batch_first=True causes input/output tensors to be of shape\n",
    "        # (batch_dim, seq_dim, feature_dim)\n",
    "        self.lstm = nn.LSTM(input_dim, hidden_dim, layer_dim, batch_first=True)\n",
    "        \n",
    "        \n",
    "        \n",
    "        \n",
    "   \n",
    "      \n",
    "#         self.fc2 = nn.Sequential(\n",
    "#             nn.Linear(\n",
    "#                 in_features=hidden_dim,\n",
    "#                 out_features=20\n",
    "#             ),\n",
    "#             nn.Dropout(p=0.2),\n",
    "#             nn.ReLU()\n",
    "#         )\n",
    "        \n",
    "        self.lastlayer = nn.Linear(\n",
    "            in_features=hidden_dim,\n",
    "            out_features=3\n",
    "        )\n",
    "        \n",
    "        \n",
    "    def forward(self, x):\n",
    "        #adding 1 dimention\n",
    "        x = x.unsqueeze(1)\n",
    "\n",
    "        #conv layers\n",
    "        x = self.conv1(x)\n",
    "        x = self.maxpool(x)\n",
    "\n",
    "      #flatten\n",
    "        x = x.reshape(x.shape[0], -1)\n",
    "\n",
    "      #3fc\n",
    "        x = self.fc1(x)\n",
    "#         x = tf.transpose(x,[0,2,1])\n",
    "#         print(x.shape)\n",
    "        # Initialize hidden state with zeros\n",
    "        h0 = torch.zeros(self.layer_dim, x.size(0), self.hidden_dim, device=x.device).requires_grad_()\n",
    "\n",
    "        # Initialize cell state\n",
    "        c0 = torch.zeros(self.layer_dim, x.size(0), self.hidden_dim, device=x.device).requires_grad_()\n",
    "        \n",
    "        \n",
    "#         out = tf.reshape(out, shape=[0,2,1]).cpu().numpy()\n",
    "#         print(out.shape)\n",
    "        \n",
    "#         out = out.unsqueeze(1)\n",
    "#         out = out.reshape(out.shape[0], -1)\n",
    "\n",
    "\n",
    "        out = x.unsqueeze(2)\n",
    "\n",
    "#         out = out.permute(0,2,1)\n",
    "        \n",
    "#         print(out.shape)\n",
    "        # We need to detach as we are doing truncated backpropagation through time (BPTT)\n",
    "        # If we don't, we'll backprop all the way to the start even after going through another batch\n",
    "        out, (hn, cn) = self.lstm(out, (h0.detach(), c0.detach()))\n",
    "        \n",
    "        #flatten\n",
    "#         out = out.reshape(out.shape[0], -1)\n",
    "        \n",
    "#         out = self.fc2(out)\n",
    "        # Index hidden state of last time step\n",
    "        # Just want last time step hidden states! \n",
    "        out = self.lastlayer(out[:, -1, :]) \n",
    "        # out.size() --> 100, 10\n",
    "#         out = self.lastlayer(out) \n",
    "\n",
    "        return out\n"
   ]
  },
  {
   "cell_type": "code",
   "execution_count": 126,
   "id": "92152117",
   "metadata": {},
   "outputs": [],
   "source": [
    "input_dim = 1\n",
    "hidden_dim = 25\n",
    "layer_dim = 1\n",
    "output_dim = 3"
   ]
  },
  {
   "cell_type": "code",
   "execution_count": 127,
   "id": "a47d7352",
   "metadata": {},
   "outputs": [],
   "source": [
    "def Training(model, train_loader, criterion, optimizer, epochs):\n",
    "\n",
    "  train_losses  = [] \n",
    "  Acc =[]\n",
    "\n",
    "  for epoch in range(epochs):\n",
    "\n",
    "      epoch_accuracy =  0\n",
    "      total_correct = 0\n",
    "      train_loss = 0\n",
    "      total_pcaps = 0\n",
    "\n",
    "      model.train()\n",
    "      for elem in train_loader:\n",
    "\n",
    "          pcap_byte = elem['feature'].to(device)\n",
    "          \n",
    "\n",
    "          labels = elem['label'].to(device)\n",
    "          \n",
    "          \n",
    "          # Clear gradients w.r.t. parameters\n",
    "          optimizer.zero_grad()\n",
    "\n",
    "          # Forward pass to get output/logits\n",
    "          outputs = model(pcap_byte)\n",
    "\n",
    "          # Calculate Loss\n",
    "          loss = criterion(outputs, labels)\n",
    "\n",
    "          # Getting gradients w.r.t. parameters\n",
    "          loss.backward()\n",
    "\n",
    "          # Updating parameters\n",
    "          optimizer.step()\n",
    "          \n",
    "          total_pcaps += labels.size(0)\n",
    "\n",
    "          # Obtaining predictions from max value\n",
    "          _, predicted = torch.max(outputs.data, 1)\n",
    "\n",
    "\n",
    "          # Calculate the number of correct answers\n",
    "          correct = (predicted == labels).sum().item()\n",
    "\n",
    "          train_loss += loss.item()\n",
    "          total_correct += correct\n",
    "\n",
    "      epoch_accuracy = ((total_correct / total_pcaps) * 100)\n",
    "      Acc.append(epoch_accuracy)\n",
    "      average_loss = train_loss / len(train_loader)\n",
    "      train_losses.append(train_loss)\n",
    "      print('epoch %d, train_loss: %.3f' % (epoch + 1, average_loss))\n",
    "      \n",
    "\n",
    "\n",
    "  Accuracy = ((total_correct / total_pcaps) * 100)\n",
    "  print('Training Accuracy: %.3f' % (Accuracy))\n",
    "  plt.plot(np.arange(len(train_losses)), train_losses, 'r')\n",
    "  plt.xlabel('Epoch')\n",
    "  plt.ylabel('Train Loss')\n",
    "  plt.show()\n",
    "  \n",
    "\n",
    "  plt.plot(np.arange(len(Acc)), Acc, 'b')\n",
    "  plt.xlabel('Epoch')\n",
    "  plt.ylabel('Accuracy')\n",
    "  plt.show()"
   ]
  },
  {
   "cell_type": "code",
   "execution_count": 128,
   "id": "c458bc9a",
   "metadata": {},
   "outputs": [],
   "source": [
    "cuda = torch.device('cuda')  "
   ]
  },
  {
   "cell_type": "code",
   "execution_count": 129,
   "id": "cd7aeb44",
   "metadata": {
    "scrolled": false
   },
   "outputs": [
    {
     "name": "stdout",
     "output_type": "stream",
     "text": [
      "LSTMModel(\n",
      "  (conv1): Sequential(\n",
      "    (0): Conv1d(1, 150, kernel_size=(4,), stride=(3,))\n",
      "    (1): ReLU()\n",
      "  )\n",
      "  (maxpool): MaxPool1d(kernel_size=2, stride=2, padding=0, dilation=1, ceil_mode=False)\n",
      "  (fc1): Sequential(\n",
      "    (0): Linear(in_features=37350, out_features=100, bias=True)\n",
      "    (1): Dropout(p=0.05, inplace=False)\n",
      "    (2): ReLU()\n",
      "  )\n",
      "  (lstm): LSTM(1, 25, batch_first=True)\n",
      "  (lastlayer): Linear(in_features=25, out_features=3, bias=True)\n",
      ")\n"
     ]
    }
   ],
   "source": [
    "model = LSTMModel(input_dim, hidden_dim, layer_dim, output_dim)\n",
    "model=model.to(device)\n",
    "learning_rate =  0.03\n",
    "optimizer = torch.optim.SGD(model.parameters(), lr = learning_rate, weight_decay=1e-5 ) \n",
    "criterion = nn.CrossEntropyLoss()\n",
    "print(model)"
   ]
  },
  {
   "cell_type": "code",
   "execution_count": 131,
   "id": "f819f024",
   "metadata": {
    "scrolled": false
   },
   "outputs": [
    {
     "name": "stdout",
     "output_type": "stream",
     "text": [
      "epoch 1, train_loss: 1.008\n",
      "epoch 2, train_loss: 1.003\n",
      "epoch 3, train_loss: 1.000\n",
      "epoch 4, train_loss: 0.994\n",
      "epoch 5, train_loss: 0.969\n",
      "epoch 6, train_loss: 0.922\n",
      "epoch 7, train_loss: 0.824\n",
      "epoch 8, train_loss: 0.629\n",
      "epoch 9, train_loss: 0.439\n",
      "epoch 10, train_loss: 0.330\n",
      "epoch 11, train_loss: 0.278\n",
      "epoch 12, train_loss: 0.244\n",
      "epoch 13, train_loss: 0.216\n",
      "epoch 14, train_loss: 0.197\n",
      "epoch 15, train_loss: 0.173\n",
      "epoch 16, train_loss: 0.153\n",
      "epoch 17, train_loss: 0.120\n",
      "epoch 18, train_loss: 0.110\n",
      "epoch 19, train_loss: 0.109\n",
      "epoch 20, train_loss: 0.091\n",
      "epoch 21, train_loss: 0.080\n",
      "epoch 22, train_loss: 0.071\n",
      "epoch 23, train_loss: 0.069\n",
      "epoch 24, train_loss: 0.063\n",
      "epoch 25, train_loss: 0.060\n",
      "epoch 26, train_loss: 0.052\n",
      "epoch 27, train_loss: 0.051\n",
      "epoch 28, train_loss: 0.047\n",
      "epoch 29, train_loss: 0.040\n",
      "epoch 30, train_loss: 0.043\n",
      "epoch 31, train_loss: 0.035\n",
      "epoch 32, train_loss: 0.037\n",
      "epoch 33, train_loss: 0.035\n",
      "epoch 34, train_loss: 0.033\n",
      "epoch 35, train_loss: 0.031\n",
      "epoch 36, train_loss: 0.029\n",
      "epoch 37, train_loss: 0.028\n",
      "epoch 38, train_loss: 0.027\n",
      "epoch 39, train_loss: 0.029\n",
      "epoch 40, train_loss: 0.024\n",
      "epoch 41, train_loss: 0.026\n",
      "epoch 42, train_loss: 0.028\n",
      "epoch 43, train_loss: 0.024\n",
      "epoch 44, train_loss: 0.022\n",
      "epoch 45, train_loss: 0.021\n",
      "epoch 46, train_loss: 0.022\n",
      "epoch 47, train_loss: 0.022\n",
      "epoch 48, train_loss: 0.017\n",
      "epoch 49, train_loss: 0.016\n",
      "epoch 50, train_loss: 0.020\n",
      "Training Accuracy: 99.482\n"
     ]
    },
    {
     "data": {
      "image/png": "[encoded data removed]",
      "text/plain": [
       "<Figure size 432x288 with 1 Axes>"
      ]
     },
     "metadata": {
      "needs_background": "light"
     },
     "output_type": "display_data"
    },
    {
     "data": {
      "image/png": "[encoded data removed]",
      "text/plain": [
       "<Figure size 432x288 with 1 Axes>"
      ]
     },
     "metadata": {
      "needs_background": "light"
     },
     "output_type": "display_data"
    }
   ],
   "source": [
    "Training(model,app_train_loader,criterion,optimizer,50)"
   ]
  },
  {
   "cell_type": "code",
   "execution_count": 132,
   "id": "d10cb7b0",
   "metadata": {},
   "outputs": [
    {
     "name": "stdout",
     "output_type": "stream",
     "text": [
      "Accuracy: 99.05195297686765%\n"
     ]
    }
   ],
   "source": [
    "correct = 0.\n",
    "total = 0.\n",
    "model.eval()\n",
    "with torch.no_grad():\n",
    "      for elem in app_test_loader:\n",
    "        byte_array = elem['feature'].to(device)\n",
    "        labels = elem['label'].to(device)\n",
    "        outputs = model(byte_array)\n",
    "        _, predicted = torch.max(outputs.data, 1)\n",
    "        total += labels.size(0)\n",
    "        correct += (predicted == labels).sum().item()\n",
    "\n",
    "accuracy = 100 * correct / total\n",
    "print('Accuracy: {}%'.format(accuracy))"
   ]
  },
  {
   "cell_type": "code",
   "execution_count": 133,
   "id": "4b814de9",
   "metadata": {},
   "outputs": [],
   "source": [
    "def test_model_accuracy(model, test_loader, classes):\n",
    "    # Calculate Accuracy         \n",
    "    correct = 0.\n",
    "    total = 0.\n",
    "    correct_predicted = {id : 0 for id in range(len(classes))}\n",
    "    num_of_labels = {id : 0 for id in range(len(classes))}\n",
    "    all_predicted = {id : 0 for id in range(len(classes))}\n",
    "    confusion = [ [0] * len(classes) for _ in range(len(classes))]\n",
    "\n",
    "    # Iterate through test dataset\n",
    "    with torch.no_grad():\n",
    "      for elem in test_loader:\n",
    "        byte_array = elem['feature'].to(device)\n",
    "        labels = elem['label'].to(device)\n",
    "        outputs = model(byte_array)\n",
    "        _, predicted = torch.max(outputs.data, 1)\n",
    "        total += labels.size(0)\n",
    "\n",
    "        for p, l in zip(predicted, labels):\n",
    "            num_of_labels[l.item()] += 1\n",
    "            pc = p.to('cpu').item()\n",
    "            all_predicted[pc] += 1\n",
    "            confusion[l][pc] += 1\n",
    "\n",
    "            if p == l:\n",
    "                correct_predicted[pc] += 1\n",
    "\n",
    "        correct += (predicted.to(device) == labels).sum().item()\n",
    "\n",
    "    accuracy = 100 * correct / total\n",
    "    print('Accuracy: {}%'.format(accuracy))\n",
    "    return confusion, [x / y if y else 0 for x, y in zip(correct_predicted.values(), all_predicted.values())], [x / y if y else 0 for x, y in zip(correct_predicted.values(), num_of_labels.values())]"
   ]
  },
  {
   "cell_type": "code",
   "execution_count": 134,
   "id": "348bad8b",
   "metadata": {},
   "outputs": [],
   "source": [
    "def analyse(model, train_loader, test_loader, classes, task):\n",
    "    # print('Train ', end='')\n",
    "    _, train_rcs, train_prs = test_model_accuracy(model, train_loader, classes)\n",
    "    print('Test ', end='')\n",
    "    confusion, test_rcs, test_prs = test_model_accuracy(model, test_loader, classes)\n",
    "    test_f1 = []\n",
    "    table = PrettyTable(['Class', 'Rc', 'Pr', 'F1'])\n",
    "\n",
    "    for i, (rc, pr) in enumerate(zip(test_rcs, test_prs)):\n",
    "        f1 = 2 * rc * pr / (rc + pr) if (rc + pr) else 0\n",
    "        test_f1.append(f1)\n",
    "        class_name = ID_TO_APP.get(classes[i])\n",
    "        table.add_row([class_name, str(round(rc, 3)), str(round(pr, 3)), str(round(f1, 3))])\n",
    "\n",
    "    np_rcs = np.array(test_rcs)\n",
    "    rc_avg = np_rcs[np.nonzero(np_rcs)].mean()\n",
    "    np_prs = np.array(test_prs)\n",
    "    pr_avg = np_prs[np.nonzero(np_prs)].mean()\n",
    "    np_f1s = np.array(test_f1)\n",
    "    f1_avg = np_f1s[np.nonzero(np_f1s)].mean()\n",
    "    table.add_row(['Available Classes Avg', str(round(rc_avg, 3)), str(round(pr_avg, 3)), str(round(f1_avg, 3))])\n",
    "    print(table)\n",
    "\n",
    "    class_names = [ID_TO_APP.get(c) for c in classes]\n",
    "    plt.figure(figsize=(30, 9), dpi= 80, facecolor='w', edgecolor='k')\n",
    "    plt.bar([i - 0.1 for i in range(len(classes))], train_prs, width=0.2, label='Train')\n",
    "    plt.bar([i + 0.1 for i in range(len(classes))], test_prs, width=0.2, label='Test')\n",
    "    plt.legend()\n",
    "    plt.xlim(-0.2, len(classes))\n",
    "    plt.xticks(list(range(len(classes))), class_names, rotation='vertical')\n",
    "    plt.title('Comparision Between Test and Train Accuracies')\n",
    "    plt.xlabel('Category')\n",
    "    plt.ylabel('Accuracy')\n",
    "    plt.show()\n",
    "\n",
    "    df_cm = pd.DataFrame(confusion, index = [i for i in class_names], columns = [i for i in class_names])\n",
    "    plt.figure(figsize = (15,10))\n",
    "    sn.heatmap(df_cm, annot=True)"
   ]
  },
  {
   "cell_type": "code",
   "execution_count": 135,
   "id": "56ace9eb",
   "metadata": {
    "scrolled": true
   },
   "outputs": [
    {
     "name": "stdout",
     "output_type": "stream",
     "text": [
      "Accuracy: 99.77246152387573%\n",
      "Test Accuracy: 99.05195297686765%\n",
      "+-----------------------+-------+-------+-------+\n",
      "|         Class         |   Rc  |   Pr  |   F1  |\n",
      "+-----------------------+-------+-------+-------+\n",
      "|         Aparat        | 0.994 |  0.98 | 0.987 |\n",
      "|         Filimo        | 0.996 | 0.984 |  0.99 |\n",
      "|        Digikala       | 0.986 | 0.998 | 0.992 |\n",
      "| Available Classes Avg | 0.992 | 0.987 |  0.99 |\n",
      "+-----------------------+-------+-------+-------+\n"
     ]
    },
    {
     "data": {
      "image/png": "[encoded data removed]",
      "text/plain": [
       "<Figure size 2400x720 with 1 Axes>"
      ]
     },
     "metadata": {},
     "output_type": "display_data"
    },
    {
     "data": {
      "image/png": "[encoded data removed]",
      "text/plain": [
       "<Figure size 1080x720 with 2 Axes>"
      ]
     },
     "metadata": {
      "needs_background": "light"
     },
     "output_type": "display_data"
    }
   ],
   "source": [
    "all_app_classes = [i for i in range(max(app_classes) + 1)]\n",
    "analyse(model, app_train_loader, app_test_loader, all_app_classes, 'app')"
   ]
  },
  {
   "cell_type": "code",
   "execution_count": null,
   "id": "21f8df13",
   "metadata": {},
   "outputs": [],
   "source": []
  }
 ],
 "metadata": {
  "kernelspec": {
   "display_name": "Python 3",
   "language": "python",
   "name": "python3"
  },
  "language_info": {
   "codemirror_mode": {
    "name": "ipython",
    "version": 3
   },
   "file_extension": ".py",
   "mimetype": "text/x-python",
   "name": "python",
   "nbconvert_exporter": "python",
   "pygments_lexer": "ipython3",
   "version": "3.6.13"
  }
 },
 "nbformat": 4,
 "nbformat_minor": 5
}
